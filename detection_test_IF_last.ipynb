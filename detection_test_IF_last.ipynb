{
 "cells": [
  {
   "cell_type": "code",
   "execution_count": 1,
   "id": "4e6f9907",
   "metadata": {},
   "outputs": [],
   "source": [
    "#importation\n",
    "import pandas as pd\n",
    "import numpy as np\n",
    "import matplotlib.pyplot as plt\n",
    "import seaborn as sns\n",
    "\n",
    "from sklearn.ensemble import IsolationForest\n",
    "\n",
    "from sklearn.model_selection import train_test_split\n",
    "from sklearn.metrics import precision_score\n",
    "from sklearn.metrics import recall_score\n",
    "from sklearn.metrics.cluster import adjusted_rand_score"
   ]
  },
  {
   "cell_type": "code",
   "execution_count": 2,
   "id": "154cb427",
   "metadata": {},
   "outputs": [
    {
     "name": "stdout",
     "output_type": "stream",
     "text": [
      "29\n"
     ]
    }
   ],
   "source": [
    "#Выходные данные отчищенные по времени\n",
    "path_cl = [\n",
    "        'C:\\\\Users\\\\markr\\\\AIC_cleaned\\\\well1_cl.csv', #1  -1\n",
    "        #'C:\\\\Users\\\\markr\\\\AIC_cleaned\\\\well2_cl.csv', #2 #удалить нет параметра PVT3\n",
    "        #'C:\\\\Users\\\\markr\\\\AIC_cleaned\\\\well3_cl.csv', #3 #удалить нет параметра PVT3\n",
    "        #'C:\\\\Users\\\\markr\\\\AIC_cleaned\\\\well4_cl.csv', #4 #удалить нет параметра PVT1 и STKC\n",
    "        #'C:\\\\Users\\\\markr\\\\AIC_cleaned\\\\well5_cl.csv', #5 #удалить нет параметра TVA\n",
    "        #'C:\\\\Users\\\\markr\\\\AIC_cleaned\\\\well6_cl.csv', #6 #удалить нет параметра TVA\n",
    "        'C:\\\\Users\\\\markr\\\\AIC_cleaned\\\\well7_cl.csv', #7  -2\n",
    "        'C:\\\\Users\\\\markr\\\\AIC_cleaned\\\\well8_cl.csv', #8  -3\n",
    "        'C:\\\\Users\\\\markr\\\\AIC_cleaned\\\\well9_cl.csv', #9  -4\n",
    "        'C:\\\\Users\\\\markr\\\\AIC_cleaned\\\\well10_cl.csv',#10 -5\n",
    "        'C:\\\\Users\\\\markr\\\\AIC_cleaned\\\\well11_cl.csv',#11 -6\n",
    "        'C:\\\\Users\\\\markr\\\\AIC_cleaned\\\\well12_cl.csv',#12 -7\n",
    "        'C:\\\\Users\\\\markr\\\\AIC_cleaned\\\\well13_cl.csv',#13 -8\n",
    "        'C:\\\\Users\\\\markr\\\\AIC_cleaned\\\\well14_cl.csv',#14 -9\n",
    "        #'C:\\\\Users\\\\markr\\\\AIC_cleaned\\\\well15_cl.csv',#15 Убранно в связи с отсутсвием данных (не критично)\n",
    "        'C:\\\\Users\\\\markr\\\\AIC_cleaned\\\\well16_cl.csv',#16 -10\n",
    "        'C:\\\\Users\\\\markr\\\\AIC_cleaned\\\\well17_cl.csv',#17 -11\n",
    "        'C:\\\\Users\\\\markr\\\\AIC_cleaned\\\\well18_cl.csv',#18 -12\n",
    "        'C:\\\\Users\\\\markr\\\\AIC_cleaned\\\\well19_cl.csv',#19 -13\n",
    "        #'C:\\\\Users\\\\markr\\\\AIC_cleaned\\\\well20_cl.csv',#20 #удалить нет параметра STKC\n",
    "        'C:\\\\Users\\\\markr\\\\AIC_cleaned\\\\well21_cl.csv',#21 -14\n",
    "        'C:\\\\Users\\\\markr\\\\AIC_cleaned\\\\well22_cl.csv',#22 -15\n",
    "        'C:\\\\Users\\\\markr\\\\AIC_cleaned\\\\well23_cl.csv',#23 -16\n",
    "        'C:\\\\Users\\\\markr\\\\AIC_cleaned\\\\well24_cl.csv',#24 -17\n",
    "        'C:\\\\Users\\\\markr\\\\AIC_cleaned\\\\well25_cl.csv',#25 -18\n",
    "        #'C:\\\\Users\\\\markr\\\\AIC_cleaned\\\\well26_cl.csv',#26 #удалить нет параметра TVA\n",
    "        'C:\\\\Users\\\\markr\\\\AIC_cleaned\\\\well27_cl.csv',#27 -19\n",
    "        'C:\\\\Users\\\\markr\\\\AIC_cleaned\\\\well28_cl.csv',#28 -20\n",
    "        'C:\\\\Users\\\\markr\\\\AIC_cleaned\\\\well29_cl.csv',#29 -21\n",
    "        'C:\\\\Users\\\\markr\\\\AIC_cleaned\\\\well30_cl.csv',#30 -22\n",
    "        'C:\\\\Users\\\\markr\\\\AIC_cleaned\\\\well31_cl.csv',#31 -23\n",
    "        'C:\\\\Users\\\\markr\\\\AIC_cleaned\\\\well32_cl.csv',#32 -24\n",
    "        'C:\\\\Users\\\\markr\\\\AIC_cleaned\\\\well33_cl.csv',#33 -25\n",
    "        'C:\\\\Users\\\\markr\\\\AIC_cleaned\\\\well34_cl.csv',#34 -26\n",
    "        'C:\\\\Users\\\\markr\\\\AIC_cleaned\\\\well35_cl.csv',#35 -27\n",
    "        #'C:\\\\Users\\\\markr\\\\AIC_cleaned\\\\well36_cl.csv',#36 #удалить нет параметра PVT1\n",
    "        'C:\\\\Users\\\\markr\\\\AIC_cleaned\\\\well37_cl.csv',#37 -28\n",
    "        'C:\\\\Users\\\\markr\\\\AIC_cleaned\\\\well38_cl.csv' #38 -29\n",
    "]\n",
    "print(len(path_cl))"
   ]
  },
  {
   "cell_type": "code",
   "execution_count": 3,
   "id": "9e2535d5",
   "metadata": {},
   "outputs": [
    {
     "data": {
      "text/plain": [
       "20"
      ]
     },
     "execution_count": 3,
     "metadata": {},
     "output_type": "execute_result"
    }
   ],
   "source": [
    "sign_par = ['RIGTIME', ### метка времени (необходимо убрать или не использовать в процессе)\n",
    "            'BITDEPTH', 'CHKP', 'DEPTH', 'FLWOUT', 'FLWPMPS', 'HKHT', 'HKLI',  #49% max\n",
    "            'PVT1','PVT3', #100% max № 4,36 ; 2,3\n",
    "            'PVT5','ROP','SPM1', 'SPM2', 'SPP',  #49% max\n",
    "            'STKC', #100% max № 4,20\n",
    "            'TTV1', #49% max\n",
    "            'TVA', #100% max № 5,6 26\n",
    "            'WOB', #49% max\n",
    "            'flag'\n",
    "           ]\n",
    "len(sign_par)"
   ]
  },
  {
   "cell_type": "code",
   "execution_count": 4,
   "id": "5c1cfdbd",
   "metadata": {},
   "outputs": [],
   "source": [
    "dflist = []\n",
    "for file in path_cl:\n",
    "    df = pd.read_csv(file,parse_dates = ['RIGTIME'])\n",
    "    dflist.append(df)"
   ]
  },
  {
   "cell_type": "code",
   "execution_count": 5,
   "id": "45d7ab28",
   "metadata": {},
   "outputs": [
    {
     "name": "stdout",
     "output_type": "stream",
     "text": [
      "<class 'pandas.core.frame.DataFrame'>\n",
      "RangeIndex: 7960876 entries, 0 to 7960875\n",
      "Data columns (total 20 columns):\n",
      " #   Column    Dtype         \n",
      "---  ------    -----         \n",
      " 0   RIGTIME   datetime64[ns]\n",
      " 1   BITDEPTH  float64       \n",
      " 2   CHKP      float64       \n",
      " 3   DEPTH     float64       \n",
      " 4   FLWOUT    float64       \n",
      " 5   FLWPMPS   float64       \n",
      " 6   HKHT      float64       \n",
      " 7   HKLI      float64       \n",
      " 8   PVT1      float64       \n",
      " 9   PVT3      float64       \n",
      " 10  PVT5      float64       \n",
      " 11  ROP       float64       \n",
      " 12  SPM1      float64       \n",
      " 13  SPM2      float64       \n",
      " 14  SPP       float64       \n",
      " 15  STKC      float64       \n",
      " 16  TTV1      float64       \n",
      " 17  TVA       float64       \n",
      " 18  WOB       float64       \n",
      " 19  flag      int64         \n",
      "dtypes: datetime64[ns](1), float64(18), int64(1)\n",
      "memory usage: 1.2 GB\n"
     ]
    }
   ],
   "source": [
    "data = pd.concat(dflist, axis=0, ignore_index=True)\n",
    "\n",
    "data = data[sign_par]\n",
    "data.head()\n",
    "data.info(verbose=True)"
   ]
  },
  {
   "cell_type": "code",
   "execution_count": 6,
   "id": "5f3a6519",
   "metadata": {},
   "outputs": [
    {
     "data": {
      "image/png": "[encoded data removed]",
      "text/plain": [
       "<Figure size 288x1080 with 2 Axes>"
      ]
     },
     "metadata": {
      "needs_background": "light"
     },
     "output_type": "display_data"
    }
   ],
   "source": [
    "corr = data.corrwith(df['flag']).reset_index()\n",
    "corr.columns = ['Index','Correlations']\n",
    "corr = corr.set_index('Index')\n",
    "corr = corr.sort_values(by=['Correlations'], ascending = False)\n",
    "plt.figure(figsize=(4,15))\n",
    "fig = sns.heatmap(corr, annot=True, fmt=\"g\", cmap='YlGnBu')\n",
    "plt.title(\"Correlation of Variables with flag\")\n",
    "plt.show()"
   ]
  },
  {
   "cell_type": "code",
   "execution_count": 7,
   "id": "2f2b9ac7",
   "metadata": {},
   "outputs": [],
   "source": [
    "sign = [    'BITDEPTH', 'CHKP', 'DEPTH', 'FLWOUT', 'FLWPMPS', 'HKHT', 'HKLI',  #49% max\n",
    "            'PVT1','PVT3', #100% max № 4,36 ; 2,3\n",
    "            'PVT5','ROP','SPM1', 'SPM2', 'SPP',  #49% max\n",
    "            'STKC', #100% max № 4,20\n",
    "            'TTV1', #49% max\n",
    "            'TVA', #100% max № 5,6 26\n",
    "            'WOB', #49% max\n",
    "            'flag'\n",
    "           ]"
   ]
  },
  {
   "cell_type": "code",
   "execution_count": 8,
   "id": "06c99757",
   "metadata": {},
   "outputs": [
    {
     "name": "stdout",
     "output_type": "stream",
     "text": [
      "<class 'pandas.core.series.Series'>\n",
      "RangeIndex: 7960876 entries, 0 to 7960875\n",
      "Series name: flag\n",
      "Non-Null Count    Dtype\n",
      "--------------    -----\n",
      "7960876 non-null  int64\n",
      "dtypes: int64(1)\n",
      "memory usage: 60.7 MB\n",
      "None\n",
      "<class 'pandas.core.frame.DataFrame'>\n",
      "RangeIndex: 7960876 entries, 0 to 7960875\n",
      "Data columns (total 19 columns):\n",
      " #   Column    Dtype  \n",
      "---  ------    -----  \n",
      " 0   BITDEPTH  float64\n",
      " 1   CHKP      float64\n",
      " 2   DEPTH     float64\n",
      " 3   FLWOUT    float64\n",
      " 4   FLWPMPS   float64\n",
      " 5   HKHT      float64\n",
      " 6   HKLI      float64\n",
      " 7   PVT1      float64\n",
      " 8   PVT3      float64\n",
      " 9   PVT5      float64\n",
      " 10  ROP       float64\n",
      " 11  SPM1      float64\n",
      " 12  SPM2      float64\n",
      " 13  SPP       float64\n",
      " 14  STKC      float64\n",
      " 15  TTV1      float64\n",
      " 16  TVA       float64\n",
      " 17  WOB       float64\n",
      " 18  flag      int64  \n",
      "dtypes: float64(18), int64(1)\n",
      "memory usage: 1.1 GB\n",
      "None\n"
     ]
    }
   ],
   "source": [
    "data_flag = data['flag']\n",
    "data = data[sign]\n",
    "print(data_flag.info(verbose=True))\n",
    "print(data.info(verbose=True))"
   ]
  },
  {
   "cell_type": "code",
   "execution_count": 9,
   "id": "de563844",
   "metadata": {},
   "outputs": [],
   "source": [
    "sign_1 = [  'BITDEPTH', 'CHKP', 'DEPTH', 'FLWOUT', 'FLWPMPS', 'HKHT', 'HKLI',  #49% max\n",
    "            'PVT1','PVT3', #100% max № 4,36 ; 2,3\n",
    "            'PVT5','ROP','SPM1', 'SPM2', 'SPP',  #49% max\n",
    "            'STKC', #100% max № 4,20\n",
    "            'TTV1', #49% max\n",
    "            'TVA', #100% max № 5,6 26\n",
    "            'WOB' #49% max\n",
    "           ]\n",
    "\n",
    "inliers  = data[data.flag ==  0]\n",
    "outliers = data[data.flag ==  1]\n",
    "\n",
    "inliers  = inliers[sign_1]\n",
    "outliers = outliers[sign_1]\n",
    "\n",
    "inliers_train, inliers_test = train_test_split(inliers, test_size=0.30, random_state=42)"
   ]
  },
  {
   "cell_type": "code",
   "execution_count": 10,
   "id": "0446e78c",
   "metadata": {},
   "outputs": [],
   "source": [
    "model = IsolationForest()\n",
    "model.fit(inliers_train)\n",
    "inlier_pred_test = model.predict(inliers_test)\n",
    "outlier_pred = model.predict(outliers)"
   ]
  },
  {
   "cell_type": "code",
   "execution_count": 11,
   "id": "042d2a6f",
   "metadata": {},
   "outputs": [
    {
     "name": "stdout",
     "output_type": "stream",
     "text": [
      "Accuracy in Detecting Legit Cases: 0.9056243580214953\n",
      "Accuracy in Detecting Fraud Cases: 0.3035595661979796\n"
     ]
    }
   ],
   "source": [
    "print(\"Accuracy in Detecting Legit Cases:\", list(inlier_pred_test).count(1)/inlier_pred_test.shape[0])\n",
    "print(\"Accuracy in Detecting Fraud Cases:\", list(outlier_pred).count(-1)/outlier_pred.shape[0])"
   ]
  },
  {
   "cell_type": "code",
   "execution_count": 12,
   "id": "c85a511a",
   "metadata": {},
   "outputs": [],
   "source": [
    "out_pred = model.predict(data[sign_1])"
   ]
  },
  {
   "cell_type": "code",
   "execution_count": 14,
   "id": "3ea6079e",
   "metadata": {},
   "outputs": [
    {
     "name": "stdout",
     "output_type": "stream",
     "text": [
      "Accuracy in Detecting Legit Cases: 0.9057594604891079\n",
      "Accuracy in Detecting Fraud Cases: 0.3035595661979796\n"
     ]
    }
   ],
   "source": [
    "Accur_Legit = 0\n",
    "Accur_Fraud = 0\n",
    "\n",
    "flags = data_flag.to_numpy()\n",
    "tr_legit = list(flags).count(0)\n",
    "tr_fraud = list(flags).count(1)\n",
    "\n",
    "for i in range(0,len(data_flag)):\n",
    "    if flags[i] == 0 and out_pred[i] == 1:\n",
    "        Accur_Legit+=1\n",
    "    if flags[i] == 1 and out_pred[i] == -1:\n",
    "        Accur_Fraud+=1\n",
    "Accur_Legit = float(Accur_Legit)/tr_legit\n",
    "Accur_Fraud = float(Accur_Fraud)/tr_fraud\n",
    "\n",
    "print(\"Accuracy in Detecting Legit Cases:\", Accur_Legit)\n",
    "print(\"Accuracy in Detecting Fraud Cases:\", Accur_Fraud)"
   ]
  },
  {
   "cell_type": "code",
   "execution_count": 16,
   "id": "1158bf44",
   "metadata": {},
   "outputs": [
    {
     "name": "stdout",
     "output_type": "stream",
     "text": [
      "ARS:  0.15559133483610937\n",
      "Precision:  0.2021972059900476\n",
      "Recall:  0.6964404338020205\n"
     ]
    }
   ],
   "source": [
    "for i in range(0,len(out_pred)):\n",
    "    if out_pred[i] == 1:\n",
    "        out_pred[i] = 0\n",
    "        \n",
    "    else:\n",
    "        out_pred[i] = 1\n",
    "\n",
    "print('ARS: ',adjusted_rand_score(flags,out_pred))  \n",
    "\n",
    "precision = precision_score(flags, out_pred)\n",
    "recall = recall_score(flags, out_pred)\n",
    " \n",
    "print('Precision: ',precision)\n",
    "print('Recall: ',recall)"
   ]
  },
  {
   "cell_type": "code",
   "execution_count": 17,
   "id": "187c5c4c",
   "metadata": {},
   "outputs": [
    {
     "name": "stdout",
     "output_type": "stream",
     "text": [
      "метрики при обычном построении на всех данных\n",
      "ARS:  -0.0005715555548878557\n",
      "Precision:  0.24622414680312601\n",
      "Recall:  0.082920071526764\n"
     ]
    }
   ],
   "source": [
    "data_train, data_test = train_test_split(data[sign_1], test_size=0.30, random_state=42)\n",
    "model = IsolationForest()\n",
    "model.fit(data_train)\n",
    "out_pred = model.predict(data[sign_1])\n",
    "\n",
    "for i in range(0,len(out_pred)):\n",
    "    if out_pred[i] == 1:\n",
    "        out_pred[i] = 0\n",
    "        \n",
    "    else:\n",
    "        out_pred[i] = 1\n",
    "        \n",
    "print('метрики при обычном построении на всех данных')\n",
    "print('ARS: ',adjusted_rand_score(flags,out_pred))  \n",
    "\n",
    "precision = precision_score(flags, out_pred)\n",
    "recall = recall_score(flags, out_pred)\n",
    " \n",
    "print('Precision: ',precision)\n",
    "print('Recall: ',recall)"
   ]
  },
  {
   "cell_type": "code",
   "execution_count": 18,
   "id": "29188d25",
   "metadata": {},
   "outputs": [
    {
     "name": "stdout",
     "output_type": "stream",
     "text": [
      "isolation forest finale\n"
     ]
    }
   ],
   "source": [
    "print('isolation forest finale')"
   ]
  },
  {
   "cell_type": "markdown",
   "id": "2f8eeb75",
   "metadata": {},
   "source": [
    "Как видно, результаты при построении модели лесов на данных неаварийных мы получили данные по метрикам выше."
   ]
  },
  {
   "cell_type": "code",
   "execution_count": null,
   "id": "ac1024c0",
   "metadata": {},
   "outputs": [],
   "source": []
  }
 ],
 "metadata": {
  "kernelspec": {
   "display_name": "Python 3 (ipykernel)",
   "language": "python",
   "name": "python3"
  },
  "language_info": {
   "codemirror_mode": {
    "name": "ipython",
    "version": 3
   },
   "file_extension": ".py",
   "mimetype": "text/x-python",
   "name": "python",
   "nbconvert_exporter": "python",
   "pygments_lexer": "ipython3",
   "version": "3.9.12"
  }
 },
 "nbformat": 4,
 "nbformat_minor": 5
}
