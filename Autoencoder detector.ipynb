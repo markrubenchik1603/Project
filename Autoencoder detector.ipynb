{
 "cells": [
  {
   "cell_type": "code",
   "execution_count": 1,
   "id": "20fe13ea",
   "metadata": {},
   "outputs": [],
   "source": [
    "# Library importation\n",
    "# Sys library\n",
    "import datetime\n",
    "import time\n",
    "import os\n",
    "import warnings\n",
    "warnings.filterwarnings(\"ignore\")\n",
    "import random\n",
    "\n",
    "# standart libs\n",
    "import numpy as np\n",
    "import pandas as pd\n",
    "from sklearn import preprocessing\n",
    "from sklearn.preprocessing import StandardScaler\n",
    "from sklearn.model_selection import train_test_split\n",
    "from sklearn.model_selection import KFold\n",
    "from sklearn.metrics import roc_auc_score\n",
    "from sklearn.metrics import (confusion_matrix, precision_recall_curve, auc,\n",
    "                             roc_curve, recall_score, classification_report, f1_score)\n",
    "\n",
    "from sklearn.metrics import precision_recall_curve, classification_report\n",
    "from sklearn.metrics import accuracy_score\n",
    "from sklearn.metrics import confusion_matrix\n",
    "from sklearn.metrics import classification_report\n",
    "from sklearn.metrics.cluster import adjusted_rand_score\n",
    "\n",
    "# visualisation libs\n",
    "import matplotlib.pyplot as plt\n",
    "%matplotlib inline\n",
    "\n",
    "import seaborn as sns\n",
    "import collections\n",
    "\n",
    "# torch libs\n",
    "import torch\n",
    "import torch.nn as nn\n",
    "import torch.optim as optim\n",
    "from torch.utils.data import DataLoader, TensorDataset\n",
    "from torch.autograd import Variable as V\n",
    "import torch.nn.functional as F\n",
    "\n",
    "\n",
    "from bokeh.plotting import figure, output_notebook, show, ColumnDataSource\n",
    "from bokeh.models import HoverTool, NumeralTickFormatter\n",
    "from bokeh.palettes import Set3_12\n",
    "from bokeh.transform import jitter\n",
    "\n",
    "import ruptures as rpt"
   ]
  },
  {
   "cell_type": "code",
   "execution_count": 2,
   "id": "9f05e71c",
   "metadata": {},
   "outputs": [
    {
     "name": "stdout",
     "output_type": "stream",
     "text": [
      "29\n"
     ]
    }
   ],
   "source": [
    "#Входные данные отчищенные по времени\n",
    "path_cl = [\n",
    "        'C:\\\\Users\\\\markr\\\\AIC_cleaned\\\\well1_cl.csv', #1  -1\n",
    "        #'C:\\\\Users\\\\markr\\\\AIC_cleaned\\\\well2_cl.csv', #2 #удалить нет параметра PVT3\n",
    "        #'C:\\\\Users\\\\markr\\\\AIC_cleaned\\\\well3_cl.csv', #3 #удалить нет параметра PVT3\n",
    "        #'C:\\\\Users\\\\markr\\\\AIC_cleaned\\\\well4_cl.csv', #4 #удалить нет параметра PVT1 и STKC\n",
    "        #'C:\\\\Users\\\\markr\\\\AIC_cleaned\\\\well5_cl.csv', #5 #удалить нет параметра TVA\n",
    "        #'C:\\\\Users\\\\markr\\\\AIC_cleaned\\\\well6_cl.csv', #6 #удалить нет параметра TVA\n",
    "        'C:\\\\Users\\\\markr\\\\AIC_cleaned\\\\well7_cl.csv', #7  -2\n",
    "        'C:\\\\Users\\\\markr\\\\AIC_cleaned\\\\well8_cl.csv', #8  -3\n",
    "        'C:\\\\Users\\\\markr\\\\AIC_cleaned\\\\well9_cl.csv', #9  -4\n",
    "        'C:\\\\Users\\\\markr\\\\AIC_cleaned\\\\well10_cl.csv',#10 -5\n",
    "        'C:\\\\Users\\\\markr\\\\AIC_cleaned\\\\well11_cl.csv',#11 -6\n",
    "        'C:\\\\Users\\\\markr\\\\AIC_cleaned\\\\well12_cl.csv',#12 -7\n",
    "        'C:\\\\Users\\\\markr\\\\AIC_cleaned\\\\well13_cl.csv',#13 -8\n",
    "        'C:\\\\Users\\\\markr\\\\AIC_cleaned\\\\well14_cl.csv',#14 -9\n",
    "        #'C:\\\\Users\\\\markr\\\\AIC_cleaned\\\\well15_cl.csv',#15 Убранно в связи с отсутсвием данных (не критично)\n",
    "        'C:\\\\Users\\\\markr\\\\AIC_cleaned\\\\well16_cl.csv',#16 -10\n",
    "        'C:\\\\Users\\\\markr\\\\AIC_cleaned\\\\well17_cl.csv',#17 -11\n",
    "        'C:\\\\Users\\\\markr\\\\AIC_cleaned\\\\well18_cl.csv',#18 -12\n",
    "        'C:\\\\Users\\\\markr\\\\AIC_cleaned\\\\well19_cl.csv',#19 -13\n",
    "        #'C:\\\\Users\\\\markr\\\\AIC_cleaned\\\\well20_cl.csv',#20 #удалить нет параметра STKC\n",
    "        'C:\\\\Users\\\\markr\\\\AIC_cleaned\\\\well21_cl.csv',#21 -14\n",
    "        'C:\\\\Users\\\\markr\\\\AIC_cleaned\\\\well22_cl.csv',#22 -15\n",
    "        'C:\\\\Users\\\\markr\\\\AIC_cleaned\\\\well23_cl.csv',#23 -16\n",
    "        'C:\\\\Users\\\\markr\\\\AIC_cleaned\\\\well24_cl.csv',#24 -17\n",
    "        'C:\\\\Users\\\\markr\\\\AIC_cleaned\\\\well25_cl.csv',#25 -18\n",
    "        #'C:\\\\Users\\\\markr\\\\AIC_cleaned\\\\well26_cl.csv',#26 #удалить нет параметра TVA\n",
    "        'C:\\\\Users\\\\markr\\\\AIC_cleaned\\\\well27_cl.csv',#27 -19\n",
    "        'C:\\\\Users\\\\markr\\\\AIC_cleaned\\\\well28_cl.csv',#28 -20\n",
    "        'C:\\\\Users\\\\markr\\\\AIC_cleaned\\\\well29_cl.csv',#29 -21\n",
    "        'C:\\\\Users\\\\markr\\\\AIC_cleaned\\\\well30_cl.csv',#30 -22\n",
    "        'C:\\\\Users\\\\markr\\\\AIC_cleaned\\\\well31_cl.csv',#31 -23\n",
    "        'C:\\\\Users\\\\markr\\\\AIC_cleaned\\\\well32_cl.csv',#32 -24\n",
    "        'C:\\\\Users\\\\markr\\\\AIC_cleaned\\\\well33_cl.csv',#33 -25\n",
    "        'C:\\\\Users\\\\markr\\\\AIC_cleaned\\\\well34_cl.csv',#34 -26\n",
    "        'C:\\\\Users\\\\markr\\\\AIC_cleaned\\\\well35_cl.csv',#35 -27\n",
    "        #'C:\\\\Users\\\\markr\\\\AIC_cleaned\\\\well36_cl.csv',#36 #удалить нет параметра PVT1\n",
    "        'C:\\\\Users\\\\markr\\\\AIC_cleaned\\\\well37_cl.csv',#37 -28\n",
    "        'C:\\\\Users\\\\markr\\\\AIC_cleaned\\\\well38_cl.csv' #38 -29\n",
    "]\n",
    "print(len(path_cl))"
   ]
  },
  {
   "cell_type": "code",
   "execution_count": 3,
   "id": "2fd11f77",
   "metadata": {},
   "outputs": [
    {
     "data": {
      "text/plain": [
       "20"
      ]
     },
     "execution_count": 3,
     "metadata": {},
     "output_type": "execute_result"
    }
   ],
   "source": [
    "# Фичи датасета\n",
    "sign_par = ['RIGTIME', ### метка времени (необходимо убрать или не использовать в процессе)\n",
    "            'BITDEPTH', 'CHKP', 'DEPTH', 'FLWOUT', 'FLWPMPS', 'HKHT', 'HKLI',  #49% max\n",
    "            'PVT1','PVT3', #100% max № 4,36 ; 2,3\n",
    "            'PVT5','ROP','SPM1', 'SPM2', 'SPP',  #49% max\n",
    "            'STKC', #100% max № 4,20\n",
    "            'TTV1', #49% max\n",
    "            'TVA', #100% max № 5,6 26\n",
    "            'WOB', #49% max\n",
    "            'flag'\n",
    "           ]\n",
    "len(sign_par)"
   ]
  },
  {
   "cell_type": "code",
   "execution_count": 4,
   "id": "d44638ff",
   "metadata": {},
   "outputs": [],
   "source": [
    "dflist = []\n",
    "for file in path_cl:\n",
    "    df = pd.read_csv(file,parse_dates = ['RIGTIME'])\n",
    "    dflist.append(df)"
   ]
  },
  {
   "cell_type": "code",
   "execution_count": 5,
   "id": "1d5082a2",
   "metadata": {},
   "outputs": [
    {
     "name": "stdout",
     "output_type": "stream",
     "text": [
      "<class 'pandas.core.frame.DataFrame'>\n",
      "RangeIndex: 7960876 entries, 0 to 7960875\n",
      "Data columns (total 20 columns):\n",
      " #   Column    Dtype         \n",
      "---  ------    -----         \n",
      " 0   RIGTIME   datetime64[ns]\n",
      " 1   BITDEPTH  float64       \n",
      " 2   CHKP      float64       \n",
      " 3   DEPTH     float64       \n",
      " 4   FLWOUT    float64       \n",
      " 5   FLWPMPS   float64       \n",
      " 6   HKHT      float64       \n",
      " 7   HKLI      float64       \n",
      " 8   PVT1      float64       \n",
      " 9   PVT3      float64       \n",
      " 10  PVT5      float64       \n",
      " 11  ROP       float64       \n",
      " 12  SPM1      float64       \n",
      " 13  SPM2      float64       \n",
      " 14  SPP       float64       \n",
      " 15  STKC      float64       \n",
      " 16  TTV1      float64       \n",
      " 17  TVA       float64       \n",
      " 18  WOB       float64       \n",
      " 19  flag      int64         \n",
      "dtypes: datetime64[ns](1), float64(18), int64(1)\n",
      "memory usage: 1.2 GB\n"
     ]
    }
   ],
   "source": [
    "data = pd.concat(dflist, axis=0, ignore_index=True)\n",
    "\n",
    "data = data[sign_par]\n",
    "data.head()\n",
    "data.info(verbose=True)"
   ]
  },
  {
   "cell_type": "markdown",
   "id": "05bf4b07",
   "metadata": {},
   "source": [
    "## Разделение выборки на нормальные и аномальные. Подготовка тренировачной выборки."
   ]
  },
  {
   "cell_type": "code",
   "execution_count": 6,
   "id": "dd4f8452",
   "metadata": {},
   "outputs": [],
   "source": [
    "normal_X  = data[data.flag ==  0]\n",
    "normal_X = normal_X.drop('flag',axis=1)\n",
    "normal_X = normal_X.drop('RIGTIME',axis=1)\n",
    "\n",
    "# Все данные для теста\n",
    "X = data\n",
    "X = X.drop('flag',axis=1)\n",
    "X = X.drop('RIGTIME',axis=1)\n",
    "\n",
    "y = data['flag'].copy()"
   ]
  },
  {
   "cell_type": "code",
   "execution_count": 7,
   "id": "6864f15d",
   "metadata": {},
   "outputs": [
    {
     "name": "stdout",
     "output_type": "stream",
     "text": [
      "<class 'pandas.core.frame.DataFrame'>\n",
      "Int64Index: 5987349 entries, 0 to 7960875\n",
      "Data columns (total 18 columns):\n",
      " #   Column    Dtype  \n",
      "---  ------    -----  \n",
      " 0   BITDEPTH  float64\n",
      " 1   CHKP      float64\n",
      " 2   DEPTH     float64\n",
      " 3   FLWOUT    float64\n",
      " 4   FLWPMPS   float64\n",
      " 5   HKHT      float64\n",
      " 6   HKLI      float64\n",
      " 7   PVT1      float64\n",
      " 8   PVT3      float64\n",
      " 9   PVT5      float64\n",
      " 10  ROP       float64\n",
      " 11  SPM1      float64\n",
      " 12  SPM2      float64\n",
      " 13  SPP       float64\n",
      " 14  STKC      float64\n",
      " 15  TTV1      float64\n",
      " 16  TVA       float64\n",
      " 17  WOB       float64\n",
      "dtypes: float64(18)\n",
      "memory usage: 867.9 MB\n",
      "None\n",
      "<class 'pandas.core.frame.DataFrame'>\n",
      "RangeIndex: 7960876 entries, 0 to 7960875\n",
      "Data columns (total 18 columns):\n",
      " #   Column    Dtype  \n",
      "---  ------    -----  \n",
      " 0   BITDEPTH  float64\n",
      " 1   CHKP      float64\n",
      " 2   DEPTH     float64\n",
      " 3   FLWOUT    float64\n",
      " 4   FLWPMPS   float64\n",
      " 5   HKHT      float64\n",
      " 6   HKLI      float64\n",
      " 7   PVT1      float64\n",
      " 8   PVT3      float64\n",
      " 9   PVT5      float64\n",
      " 10  ROP       float64\n",
      " 11  SPM1      float64\n",
      " 12  SPM2      float64\n",
      " 13  SPP       float64\n",
      " 14  STKC      float64\n",
      " 15  TTV1      float64\n",
      " 16  TVA       float64\n",
      " 17  WOB       float64\n",
      "dtypes: float64(18)\n",
      "memory usage: 1.1 GB\n",
      "None\n",
      "<class 'pandas.core.series.Series'>\n",
      "RangeIndex: 7960876 entries, 0 to 7960875\n",
      "Series name: flag\n",
      "Non-Null Count    Dtype\n",
      "--------------    -----\n",
      "7960876 non-null  int64\n",
      "dtypes: int64(1)\n",
      "memory usage: 60.7 MB\n",
      "None\n"
     ]
    }
   ],
   "source": [
    "print(normal_X.info(verbose=True))\n",
    "\n",
    "\n",
    "print(X.info(verbose=True))\n",
    "print(y.info(verbose=True))\n",
    "\n",
    "del data"
   ]
  },
  {
   "cell_type": "code",
   "execution_count": 8,
   "id": "8b703be4",
   "metadata": {},
   "outputs": [
    {
     "name": "stdout",
     "output_type": "stream",
     "text": [
      "          BITDEPTH  CHKP      DEPTH  FLWOUT  FLWPMPS     HKHT     HKLI  \\\n",
      "6611472   2512.130   0.0  10190.247   0.000    0.000   91.920   42.578   \n",
      "4819763  16642.074   0.0  16642.074  14.336  290.741   16.543  246.084   \n",
      "3428166   1253.500   0.0  17944.000   0.000    0.000   89.990   42.370   \n",
      "6447474   9815.279   0.0   9818.487   0.000    0.000   96.131   42.956   \n",
      "2643942  16431.780   0.0  16523.960  15.000  259.710   95.300  258.300   \n",
      "...            ...   ...        ...     ...      ...      ...      ...   \n",
      "2421424  15369.250   0.0  16593.230  33.000  269.200   -4.010  240.410   \n",
      "3115155   1274.120   0.0  17104.440   0.000    0.000   16.190   32.500   \n",
      "6500219   4581.754   0.0  10190.247  31.917    0.000   43.047   43.900   \n",
      "5534880   9899.155   0.0  17252.762   0.000    0.000  107.067   37.298   \n",
      "2544161  15739.110   0.0  15739.110  14.000  243.270   25.700  234.130   \n",
      "\n",
      "            PVT1     PVT3     PVT5    ROP  SPM1  SPM2       SPP     STKC  \\\n",
      "6611472  100.268  127.526   90.757   0.00   0.0   0.0     0.000      3.0   \n",
      "4819763  123.130    0.000  266.287   0.00   0.0  68.0  3470.711   5037.0   \n",
      "3428166  174.350  251.860  455.220   0.00   0.0   0.0    18.840    284.0   \n",
      "6447474   92.532  128.681   37.978   0.00   0.0   0.0     0.000   2675.0   \n",
      "2643942  176.280  322.370  455.220   0.00   0.0   0.0  3613.600  15903.0   \n",
      "...          ...      ...      ...    ...   ...   ...       ...      ...   \n",
      "2421424  368.080  383.750    0.000   0.00  68.0   0.0  2735.190  14223.0   \n",
      "3115155  174.330  264.830  455.220   0.00   0.0   0.0    15.840    674.0   \n",
      "6500219   98.991  127.729   86.888   0.00   0.0   0.0     0.000     85.0   \n",
      "5534880   49.575   48.991  162.989   0.00   0.0   0.0    29.693    466.0   \n",
      "2544161  176.680  390.140  455.220  28.55  57.0   0.0  3212.870  17294.0   \n",
      "\n",
      "           TTV1      TVA     WOB  \n",
      "6611472  61.401  140.314   0.000  \n",
      "4819763  22.406  333.487   3.313  \n",
      "3428166  18.860  203.690  -1.200  \n",
      "6447474   0.755  116.400   0.000  \n",
      "2643942   0.080  285.130  -6.280  \n",
      "...         ...      ...     ...  \n",
      "2421424  48.500  368.080  -2.240  \n",
      "3115155  28.010  213.550  14.640  \n",
      "6500219   7.679  109.448   0.000  \n",
      "5534880  27.867  145.107   0.000  \n",
      "2544161   0.000  353.860  16.390  \n",
      "\n",
      "[4789879 rows x 18 columns]\n"
     ]
    }
   ],
   "source": [
    "# Разделение на обучающую и тестовую выборки\n",
    "train_data, test_data = train_test_split(normal_X, test_size=0.2, random_state=42)\n",
    "print(train_data)\n",
    "del normal_X"
   ]
  },
  {
   "cell_type": "code",
   "execution_count": 9,
   "id": "f035b2ee",
   "metadata": {},
   "outputs": [],
   "source": [
    "# Нормализация данных\n",
    "scaler = StandardScaler()\n",
    "train_data_norm = scaler.fit_transform(train_data)\n",
    "\n",
    "X_norm = scaler.transform(X)"
   ]
  },
  {
   "cell_type": "code",
   "execution_count": 10,
   "id": "42dca49e",
   "metadata": {},
   "outputs": [
    {
     "data": {
      "text/plain": [
       "numpy.ndarray"
      ]
     },
     "execution_count": 10,
     "metadata": {},
     "output_type": "execute_result"
    }
   ],
   "source": [
    "type(train_data_norm)"
   ]
  },
  {
   "cell_type": "markdown",
   "id": "f7a9eebe",
   "metadata": {},
   "source": [
    "## Подготовка модели обучение с рабиением данных"
   ]
  },
  {
   "cell_type": "code",
   "execution_count": 11,
   "id": "57b2086b",
   "metadata": {},
   "outputs": [
    {
     "name": "stdout",
     "output_type": "stream",
     "text": [
      "tensor([[-1.4228, -0.0774, -2.8505,  ...,  1.2250, -0.8218, -0.4716],\n",
      "        [ 0.8179, -0.0774, -0.0416,  ..., -0.0844,  0.0984, -0.4330],\n",
      "        [-1.6224, -0.0774,  0.5252,  ..., -0.2035, -0.5199, -0.4856],\n",
      "        ...,\n",
      "        [-1.0946, -0.0774, -2.8505,  ..., -0.5789, -0.9688, -0.4716],\n",
      "        [-0.2514, -0.0774,  0.2243,  ...,  0.0990, -0.7990, -0.4716],\n",
      "        [ 0.6747, -0.0774, -0.4347,  ..., -0.8368,  0.1954, -0.2806]],\n",
      "       dtype=torch.float64)\n"
     ]
    }
   ],
   "source": [
    "train_data_torch = torch.from_numpy(train_data_norm)\n",
    "print(train_data_torch)"
   ]
  },
  {
   "cell_type": "code",
   "execution_count": 12,
   "id": "bc13b3a6",
   "metadata": {},
   "outputs": [],
   "source": [
    "batch_size = 60000\n",
    "learning_rate = 0.001\n",
    "num_epochs = 80"
   ]
  },
  {
   "cell_type": "code",
   "execution_count": 13,
   "id": "4284e9a3",
   "metadata": {},
   "outputs": [],
   "source": [
    "train_loader = DataLoader(train_data_torch, batch_size=batch_size)"
   ]
  },
  {
   "cell_type": "markdown",
   "id": "04505c15",
   "metadata": {},
   "source": [
    "### Подготовка модели"
   ]
  },
  {
   "cell_type": "code",
   "execution_count": 14,
   "id": "2970c23e",
   "metadata": {},
   "outputs": [
    {
     "name": "stdout",
     "output_type": "stream",
     "text": [
      "18\n"
     ]
    }
   ],
   "source": [
    "input_dim = 18 \n",
    "#train_data.shape[1]\n",
    "hidden_dim = 10\n",
    "latent_dim = 1\n",
    "print(input_dim)\n",
    "\n",
    "# задаем seed для генератора случайных чисел\n",
    "#seed_value = 42\n",
    "#random.seed(seed_value)\n",
    "#np.random.seed(seed_value)\n",
    "#torch.manual_seed(seed_value)\n",
    "#if torch.cuda.is_available():\n",
    "#    torch.cuda.manual_seed(seed_value)\n",
    "#    torch.cuda.manual_seed_all(seed_value)"
   ]
  },
  {
   "cell_type": "code",
   "execution_count": 15,
   "id": "a02937bc",
   "metadata": {},
   "outputs": [],
   "source": [
    "# Определение модели\n",
    "class Autoencoder(nn.Module):\n",
    "    def __init__(self):\n",
    "        super(Autoencoder, self).__init__()\n",
    "        self.encoder = nn.Sequential(\n",
    "            nn.Linear(input_dim, hidden_dim),\n",
    "            nn.ReLU(),\n",
    "            nn.Linear(hidden_dim, latent_dim),\n",
    "        )\n",
    "        self.decoder = nn.Sequential(\n",
    "            nn.Linear(latent_dim, hidden_dim),\n",
    "            nn.ReLU(),\n",
    "            nn.Linear(hidden_dim, input_dim),\n",
    "        )\n",
    "\n",
    "    def forward(self, x):\n",
    "        x = self.encoder(x)\n",
    "        x = self.decoder(x)\n",
    "        return x"
   ]
  },
  {
   "cell_type": "code",
   "execution_count": 16,
   "id": "f4c50cb2",
   "metadata": {},
   "outputs": [],
   "source": [
    "model = Autoencoder()"
   ]
  },
  {
   "cell_type": "code",
   "execution_count": null,
   "id": "a9c2b1c7",
   "metadata": {},
   "outputs": [
    {
     "name": "stdout",
     "output_type": "stream",
     "text": [
      "Epoch [1/80], Loss: 0.7923\n",
      "Epoch [2/80], Loss: 0.6796\n",
      "Epoch [3/80], Loss: 0.6578\n",
      "Epoch [4/80], Loss: 0.6485\n",
      "Epoch [5/80], Loss: 0.6418\n",
      "Epoch [6/80], Loss: 0.6360\n",
      "Epoch [7/80], Loss: 0.6305\n",
      "Epoch [8/80], Loss: 0.6251\n",
      "Epoch [9/80], Loss: 0.6198\n",
      "Epoch [10/80], Loss: 0.6149\n",
      "Epoch [11/80], Loss: 0.6104\n",
      "Epoch [12/80], Loss: 0.6066\n",
      "Epoch [13/80], Loss: 0.6037\n",
      "Epoch [14/80], Loss: 0.6015\n",
      "Epoch [15/80], Loss: 0.5998\n",
      "Epoch [16/80], Loss: 0.5976\n",
      "Epoch [17/80], Loss: 0.5955\n",
      "Epoch [18/80], Loss: 0.5932\n",
      "Epoch [19/80], Loss: 0.5902\n",
      "Epoch [20/80], Loss: 0.5867\n",
      "Epoch [21/80], Loss: 0.5835\n",
      "Epoch [22/80], Loss: 0.5803\n",
      "Epoch [23/80], Loss: 0.5772\n",
      "Epoch [24/80], Loss: 0.5741\n",
      "Epoch [25/80], Loss: 0.5711\n",
      "Epoch [26/80], Loss: 0.5682\n",
      "Epoch [27/80], Loss: 0.5655\n",
      "Epoch [28/80], Loss: 0.5628\n",
      "Epoch [29/80], Loss: 0.5602\n",
      "Epoch [30/80], Loss: 0.5576\n",
      "Epoch [31/80], Loss: 0.5552\n",
      "Epoch [32/80], Loss: 0.5527\n",
      "Epoch [33/80], Loss: 0.5505\n",
      "Epoch [34/80], Loss: 0.5483\n",
      "Epoch [35/80], Loss: 0.5462\n",
      "Epoch [36/80], Loss: 0.5442\n",
      "Epoch [37/80], Loss: 0.5424\n",
      "Epoch [38/80], Loss: 0.5406\n",
      "Epoch [39/80], Loss: 0.5390\n"
     ]
    }
   ],
   "source": [
    "# Training\n",
    "# Определение функции потерь и оптимизатора\n",
    "criterion = nn.MSELoss()\n",
    "optimizer = optim.Adam(model.parameters(), lr=learning_rate)\n",
    "\n",
    "# Train the encoder\n",
    "for epoch in range(num_epochs):\n",
    "    for i, data in enumerate(train_loader):\n",
    "        inputs = data.float()\n",
    "        outputs = model(inputs)\n",
    "        loss = criterion(outputs, inputs)\n",
    "        optimizer.zero_grad()\n",
    "        loss.backward()\n",
    "        optimizer.step()\n",
    "    print(f'Epoch [{epoch+1}/{num_epochs}], Loss: {loss.item():.4f}')"
   ]
  },
  {
   "cell_type": "code",
   "execution_count": null,
   "id": "48978c03",
   "metadata": {},
   "outputs": [],
   "source": [
    "# Get the state dict of the encoder\n",
    "encoder_state_dict = model.state_dict()\n",
    "\n",
    "# Print the values of the encoder's weights\n",
    "for key, value in encoder_state_dict.items():\n",
    "    print(key, value)"
   ]
  },
  {
   "cell_type": "code",
   "execution_count": null,
   "id": "a07710dc",
   "metadata": {},
   "outputs": [],
   "source": [
    "#torch.save(model.state_dict(), 'encoder_weights_11.pth')"
   ]
  },
  {
   "cell_type": "code",
   "execution_count": 17,
   "id": "eedaf5ac",
   "metadata": {},
   "outputs": [],
   "source": [
    "# задаем seed для генератора случайных чисел\n",
    "seed_value = 42\n",
    "random.seed(seed_value)\n",
    "np.random.seed(seed_value)\n",
    "torch.manual_seed(seed_value)\n",
    "if torch.cuda.is_available():\n",
    "    torch.cuda.manual_seed(seed_value)\n",
    "    torch.cuda.manual_seed_all(seed_value)"
   ]
  },
  {
   "cell_type": "code",
   "execution_count": 18,
   "id": "01daf6e1",
   "metadata": {},
   "outputs": [],
   "source": [
    "model4 = Autoencoder()"
   ]
  },
  {
   "cell_type": "code",
   "execution_count": 19,
   "id": "4bc6d814",
   "metadata": {},
   "outputs": [
    {
     "name": "stdout",
     "output_type": "stream",
     "text": [
      "Epoch [1/80], Loss: 0.8689\n",
      "Epoch [2/80], Loss: 0.8113\n",
      "Epoch [3/80], Loss: 0.7709\n",
      "Epoch [4/80], Loss: 0.7097\n",
      "Epoch [5/80], Loss: 0.6661\n",
      "Epoch [6/80], Loss: 0.6421\n",
      "Epoch [7/80], Loss: 0.6253\n",
      "Epoch [8/80], Loss: 0.6128\n",
      "Epoch [9/80], Loss: 0.6038\n",
      "Epoch [10/80], Loss: 0.5972\n",
      "Epoch [11/80], Loss: 0.5919\n",
      "Epoch [12/80], Loss: 0.5855\n",
      "Epoch [13/80], Loss: 0.5783\n",
      "Epoch [14/80], Loss: 0.5725\n",
      "Epoch [15/80], Loss: 0.5674\n",
      "Epoch [16/80], Loss: 0.5628\n",
      "Epoch [17/80], Loss: 0.5585\n",
      "Epoch [18/80], Loss: 0.5549\n",
      "Epoch [19/80], Loss: 0.5515\n",
      "Epoch [20/80], Loss: 0.5483\n",
      "Epoch [21/80], Loss: 0.5451\n",
      "Epoch [22/80], Loss: 0.5421\n",
      "Epoch [23/80], Loss: 0.5392\n",
      "Epoch [24/80], Loss: 0.5365\n",
      "Epoch [25/80], Loss: 0.5340\n",
      "Epoch [26/80], Loss: 0.5318\n",
      "Epoch [27/80], Loss: 0.5297\n",
      "Epoch [28/80], Loss: 0.5278\n",
      "Epoch [29/80], Loss: 0.5258\n",
      "Epoch [30/80], Loss: 0.5240\n",
      "Epoch [31/80], Loss: 0.5220\n",
      "Epoch [32/80], Loss: 0.5202\n",
      "Epoch [33/80], Loss: 0.5182\n",
      "Epoch [34/80], Loss: 0.5163\n",
      "Epoch [35/80], Loss: 0.5143\n",
      "Epoch [36/80], Loss: 0.5126\n",
      "Epoch [37/80], Loss: 0.5110\n",
      "Epoch [38/80], Loss: 0.5096\n",
      "Epoch [39/80], Loss: 0.5081\n",
      "Epoch [40/80], Loss: 0.5068\n",
      "Epoch [41/80], Loss: 0.5053\n",
      "Epoch [42/80], Loss: 0.5042\n",
      "Epoch [43/80], Loss: 0.5028\n",
      "Epoch [44/80], Loss: 0.5019\n",
      "Epoch [45/80], Loss: 0.5006\n",
      "Epoch [46/80], Loss: 0.4997\n",
      "Epoch [47/80], Loss: 0.4985\n",
      "Epoch [48/80], Loss: 0.4977\n",
      "Epoch [49/80], Loss: 0.4967\n",
      "Epoch [50/80], Loss: 0.4960\n",
      "Epoch [51/80], Loss: 0.4951\n",
      "Epoch [52/80], Loss: 0.4944\n",
      "Epoch [53/80], Loss: 0.4936\n",
      "Epoch [54/80], Loss: 0.4930\n",
      "Epoch [55/80], Loss: 0.4922\n",
      "Epoch [56/80], Loss: 0.4916\n",
      "Epoch [57/80], Loss: 0.4907\n",
      "Epoch [58/80], Loss: 0.4901\n",
      "Epoch [59/80], Loss: 0.4892\n",
      "Epoch [60/80], Loss: 0.4886\n",
      "Epoch [61/80], Loss: 0.4878\n",
      "Epoch [62/80], Loss: 0.4872\n",
      "Epoch [63/80], Loss: 0.4863\n",
      "Epoch [64/80], Loss: 0.4860\n",
      "Epoch [65/80], Loss: 0.4853\n",
      "Epoch [66/80], Loss: 0.4850\n",
      "Epoch [67/80], Loss: 0.4843\n",
      "Epoch [68/80], Loss: 0.4841\n",
      "Epoch [69/80], Loss: 0.4835\n",
      "Epoch [70/80], Loss: 0.4834\n",
      "Epoch [71/80], Loss: 0.4828\n",
      "Epoch [72/80], Loss: 0.4826\n",
      "Epoch [73/80], Loss: 0.4820\n",
      "Epoch [74/80], Loss: 0.4818\n",
      "Epoch [75/80], Loss: 0.4812\n",
      "Epoch [76/80], Loss: 0.4811\n",
      "Epoch [77/80], Loss: 0.4805\n",
      "Epoch [78/80], Loss: 0.4805\n",
      "Epoch [79/80], Loss: 0.4800\n",
      "Epoch [80/80], Loss: 0.4799\n"
     ]
    }
   ],
   "source": [
    "# Training\n",
    "# Определение функции потерь и оптимизатора\n",
    "criterion = nn.MSELoss()\n",
    "optimizer = optim.Adam(model4.parameters(), lr=learning_rate)\n",
    "\n",
    "# Train the encoder\n",
    "for epoch in range(num_epochs):\n",
    "    for i, data in enumerate(train_loader):\n",
    "        inputs = data.float()\n",
    "        outputs = model4(inputs)\n",
    "        loss = criterion(outputs, inputs)\n",
    "        optimizer.zero_grad()\n",
    "        loss.backward()\n",
    "        optimizer.step()\n",
    "    print(f'Epoch [{epoch+1}/{num_epochs}], Loss: {loss.item():.4f}')"
   ]
  },
  {
   "cell_type": "code",
   "execution_count": 20,
   "id": "907a1d14",
   "metadata": {},
   "outputs": [
    {
     "name": "stdout",
     "output_type": "stream",
     "text": [
      "encoder.0.weight tensor([[ 1.9074e-02, -1.0013e-01, -1.6738e-01,  8.3111e-02, -1.1575e-01,\n",
      "          6.5220e-03, -1.8302e+00,  5.0953e-03,  3.9446e-01,  3.7136e-01,\n",
      "          5.9486e-03,  1.1589e+00,  5.6277e-02, -7.2338e-02,  2.8842e-01,\n",
      "          1.1124e-01, -1.4493e-01,  3.7686e-01],\n",
      "        [-2.9072e-01, -1.6616e-01, -5.3119e-01, -1.3736e-01, -2.3591e+00,\n",
      "          1.0441e-01, -4.8425e-01, -3.5838e-01,  5.9452e-01,  4.5109e-01,\n",
      "         -7.4099e-02, -3.5691e-01,  1.5116e-01, -1.1821e+00,  1.1081e+00,\n",
      "          1.5583e-02, -4.8382e-01,  8.0550e-01],\n",
      "        [-3.0925e-01,  2.2175e-01, -1.0783e-01, -1.4068e-01, -1.1891e-01,\n",
      "          4.3561e-02, -3.3856e-03, -1.2297e-01, -1.8075e-01,  7.5868e-02,\n",
      "          2.9587e-02,  2.4004e-01, -1.9910e-01,  7.0443e-01, -2.8594e-01,\n",
      "         -3.9631e-01,  4.3559e-02,  1.9061e-01],\n",
      "        [ 2.4586e-02,  6.2612e-02,  7.1903e-02, -4.3982e-02,  3.6177e-01,\n",
      "         -2.5637e-02, -1.4166e-01, -3.3463e-01, -4.1830e-01, -7.7042e-03,\n",
      "         -1.6484e-02,  2.5897e-01,  3.6012e-02,  2.2054e-01,  2.3724e-01,\n",
      "         -7.5807e-02,  4.2335e-02, -3.2654e-01],\n",
      "        [-2.4744e-01, -1.7480e-01, -3.3939e-01, -4.1561e-01, -7.3014e-01,\n",
      "          4.7689e-02,  8.1594e-02, -2.1899e-01,  1.5298e-01,  1.5727e-02,\n",
      "         -2.7865e-02, -7.8700e-01, -5.9195e-04, -1.8332e+00,  2.0707e+00,\n",
      "         -1.2905e-01, -2.0610e-01,  5.9762e-01],\n",
      "        [-6.4701e-02, -2.0404e-01,  4.6255e-02, -5.5415e-03, -8.3806e-01,\n",
      "         -6.3837e-02,  2.6293e-01,  1.4912e-01, -3.0233e-01,  9.8617e-01,\n",
      "          1.1256e-01,  1.9244e-01, -1.9538e-01, -1.6679e+00,  1.4268e+00,\n",
      "         -8.9406e-03, -7.8846e-01,  2.2882e+00],\n",
      "        [ 4.2252e-02, -8.8138e-01, -6.0560e-02, -1.3576e-02,  7.4670e-02,\n",
      "         -9.8843e-02, -5.0031e-03, -1.8557e-01, -2.8383e-01, -8.6473e-02,\n",
      "         -4.4299e-03, -1.2446e+00,  8.6890e-02,  3.4777e-01,  1.6455e+00,\n",
      "         -5.8664e-01,  1.2780e-01, -1.7873e-01],\n",
      "        [-5.3955e-02, -3.8354e-01,  4.5173e-02, -1.5150e-01,  1.8334e-01,\n",
      "         -2.9920e-02,  6.5870e-02, -6.6664e-01, -2.0510e-01,  4.0823e-01,\n",
      "         -7.1546e-02, -9.5440e-01, -2.2282e-01,  6.1122e-01,  9.2135e-01,\n",
      "         -7.7910e-01, -4.0304e-01, -6.6606e-01],\n",
      "        [ 1.1384e-01,  8.1554e-02,  2.2449e-01,  2.7589e-02,  6.6741e-01,\n",
      "         -2.1679e-02, -2.0033e-03, -3.6698e-01,  1.0354e-01, -2.4953e-01,\n",
      "          4.6244e-02,  2.4101e-01, -1.3583e-01,  4.1705e-01,  4.2256e-01,\n",
      "         -1.0416e-01, -1.4646e-01, -4.0264e-01],\n",
      "        [-2.5582e-01, -1.8631e-01, -2.1214e-01,  6.0712e-02, -1.5091e+00,\n",
      "          3.4209e-02, -4.6974e-03, -1.5747e-01,  1.2934e-01,  8.2516e-01,\n",
      "         -2.4767e-02, -4.3480e-01, -5.8715e-01, -1.0102e+00,  8.9334e-03,\n",
      "          6.4088e-02, -7.6059e-01,  1.1873e+00]])\n",
      "encoder.0.bias tensor([ 1.8486,  0.4255, -0.8993,  0.0557, -0.6313, -0.5840, -1.7455, -1.9661,\n",
      "         0.3450, -2.6936])\n",
      "encoder.2.weight tensor([[ 0.6726, -1.1445,  0.5268,  0.3166,  0.6228, -0.8807,  0.7748,  0.6342,\n",
      "          0.2898,  1.4409]])\n",
      "encoder.2.bias tensor([-0.4190])\n",
      "decoder.0.weight tensor([[-8.7345e-01],\n",
      "        [ 5.0261e-01],\n",
      "        [ 2.8173e-01],\n",
      "        [-1.8085e-04],\n",
      "        [-7.7269e-01],\n",
      "        [-1.2134e+00],\n",
      "        [-1.0752e+00],\n",
      "        [-1.0485e+00],\n",
      "        [ 4.5988e-01],\n",
      "        [ 7.5992e-01]])\n",
      "decoder.0.bias tensor([ 0.5714,  0.2195, -2.6603, -0.1972,  1.9579, -0.5022, -3.1641,  1.4444,\n",
      "        -2.9213, -2.6542])\n",
      "decoder.2.weight tensor([[ 9.4323e-02,  2.7593e-01,  3.2182e-02, -2.6985e-01,  3.3058e-01,\n",
      "         -4.9150e-01,  7.6812e-01, -3.0707e-01, -2.2098e-02, -2.0524e-01],\n",
      "        [ 1.9356e-01,  9.0485e-02,  1.2453e-01,  2.0907e-01,  1.1872e-01,\n",
      "         -2.2296e-01,  8.6652e-02, -5.6970e-02, -4.6132e-01,  1.3305e-01],\n",
      "        [ 4.5643e-01, -4.7139e-02, -2.2679e-01, -2.7058e-02, -1.7341e-01,\n",
      "         -7.1855e-01,  5.0365e-01,  2.1313e-01,  2.9014e-01, -1.1432e-01],\n",
      "        [-9.8185e-01, -1.6189e-02, -5.6028e-01, -1.0214e-01,  4.6450e-02,\n",
      "          9.0061e-01, -2.9403e-01, -5.1246e-02, -2.9441e-01,  2.8634e-02],\n",
      "        [-1.6200e+00,  4.4185e-01, -3.4455e-02,  1.6089e-01,  4.7304e-01,\n",
      "          8.4371e-01,  1.9707e-01, -1.5223e-01, -1.3237e-01, -2.3861e-01],\n",
      "        [-2.3181e-01,  1.2929e-01,  3.1206e-02,  2.8177e-01,  8.8822e-02,\n",
      "          2.5292e-02, -1.6419e-02,  1.4236e-01, -3.1048e-01, -9.7112e-04],\n",
      "        [-1.3943e-01,  1.1208e-01, -9.8414e-03, -8.4675e-02, -5.0569e-02,\n",
      "         -2.0722e-01,  4.1754e-01,  2.8516e-01,  5.8774e-02, -1.0629e-01],\n",
      "        [ 1.1631e+00, -1.7743e-01, -1.0897e-01,  1.6375e-01, -5.3690e-01,\n",
      "         -1.9252e+00,  9.5793e-01,  8.3333e-01, -1.7140e-01,  1.6882e-01],\n",
      "        [ 1.1454e-01, -5.1563e-02, -5.0717e-03, -2.3193e-01,  3.4220e-01,\n",
      "          1.4579e+00, -8.8900e-01, -1.3877e+00,  3.9246e-01, -2.8031e-01],\n",
      "        [ 3.2834e-01,  2.4790e-01,  1.2966e-01,  2.5497e-01,  1.2818e-01,\n",
      "          8.5302e-01, -7.0716e-01, -8.1998e-01,  2.9130e-01, -4.5233e-01],\n",
      "        [ 1.6997e-02, -3.1934e-03,  1.1232e-01, -1.7636e-01, -6.7761e-03,\n",
      "         -1.4739e-02,  1.2840e-01, -2.3546e-02, -1.1197e-01,  2.8492e-02],\n",
      "        [ 7.9779e-01,  4.2985e-02,  2.0971e-01,  1.9296e-01, -2.2357e+00,\n",
      "         -2.9036e-01,  5.7810e-02,  1.2677e+00, -9.4686e-02, -3.4906e-01],\n",
      "        [-7.9767e-01, -1.1260e-01, -1.0453e+00, -2.1453e-01,  1.1069e+00,\n",
      "          4.1567e-01,  2.8329e-01, -8.3138e-01, -3.3866e-01,  4.3285e-01],\n",
      "        [-6.2588e-01,  7.3810e-01, -1.3826e-01, -2.7037e-01,  7.5511e-01,\n",
      "          5.2945e-01,  1.3378e-01, -7.7157e-01,  2.7014e-02, -4.8244e-01],\n",
      "        [ 3.2853e-02,  4.0583e-01, -1.0667e+00,  1.7928e-01,  3.2550e-01,\n",
      "         -3.8772e-01,  5.5601e-01,  5.1224e-02, -1.6569e+00,  1.0914e+00],\n",
      "        [-1.2427e-01, -1.3388e-01, -3.7769e-01, -2.7432e-01, -1.0212e-01,\n",
      "          1.7948e-01, -2.3757e-01,  1.4504e-01, -6.2093e-01,  2.6092e-01],\n",
      "        [-1.9243e-03,  5.1198e-02, -3.0278e-01,  4.8806e-02, -2.5074e-03,\n",
      "         -1.5442e+00,  1.0762e+00,  9.0819e-01, -4.4474e-01,  3.1418e-01],\n",
      "        [-6.5540e-02,  1.2192e-02, -1.4425e-02,  5.7823e-02, -6.5595e-02,\n",
      "          7.0292e-03,  1.0509e+00,  1.1396e-01, -2.8136e-01,  6.8618e-02]])\n",
      "decoder.2.bias tensor([ 0.2539, -0.2094,  0.2084,  0.3356,  0.2868, -0.3197, -0.1790,  0.2710,\n",
      "         0.4112, -0.0834,  0.0183,  1.7149, -0.1140, -0.1831, -0.9639, -0.0518,\n",
      "        -0.1424, -0.4287])\n"
     ]
    }
   ],
   "source": [
    "# Get the state dict of the encoder\n",
    "encoder_state_dict = model4.state_dict()\n",
    "\n",
    "# Print the values of the encoder's weights\n",
    "for key, value in encoder_state_dict.items():\n",
    "    print(key, value)"
   ]
  },
  {
   "cell_type": "markdown",
   "id": "72396247",
   "metadata": {},
   "source": [
    "#### Был проведен ряд запусков модели ( в том числе и с фикисрованным random_seed) что приводило к несколько различающимся весам энкодера. Далее будет проведен ряд тестов на то, подходят ли эти веса или нет.  Получено 9 различных наборов весов, однако небходио просто визуально удостовериться являются ли эти веса подходящими для детекции аномалий. "
   ]
  },
  {
   "cell_type": "code",
   "execution_count": 16,
   "id": "cda9b7c3",
   "metadata": {},
   "outputs": [
    {
     "name": "stdout",
     "output_type": "stream",
     "text": [
      "9\n"
     ]
    }
   ],
   "source": [
    "weights_files = ['encoder_weights.pth',                          # Веса модели при разных запусках обучения.\n",
    "                 'encoder_weights_2.pth',\n",
    "                 'encoder_weights_3.pth',\n",
    "                 'encoder_weights_11.pth',\n",
    "                 'encoder_weights_12.pth',\n",
    "                 'encoder_weights_13.pth',\n",
    "                 'encoder_weights_14.pth',\n",
    "                 'encoder_weights_15.pth',\n",
    "                 'encoder_weights_16.pth'\n",
    "                ]\n",
    "print(len(weights_files))"
   ]
  },
  {
   "cell_type": "code",
   "execution_count": 21,
   "id": "5312280e",
   "metadata": {},
   "outputs": [],
   "source": [
    "def visual_test(num,weights_f):\n",
    "    # Создание модели с необходимыми весами\n",
    "    model = Autoencoder()\n",
    "    model.load_state_dict(torch.load(weights_f[num-1]))\n",
    "    \n",
    "    data = torch.from_numpy(X_norm)\n",
    "    encoded_data = model(data.to(torch.float32))\n",
    "    \n",
    "    # преобразуем тензор в массив numpy\n",
    "    arr = encoded_data.detach().numpy()\n",
    "    # создаем объект Pandas DataFrame из массива numpy\n",
    "    df = pd.DataFrame(arr)\n",
    "    \n",
    "    print(\"Визуальное сравнение граифика кодированных данных и графика меток аномалий для весов из файла №\",num)\n",
    "    # График кодированных данных\n",
    "    plt.figure(figsize=(6, 4))\n",
    "    plt.plot(range(0,7960876,1),df[0])\n",
    "    plt.show()\n",
    "    # График расположения меток\n",
    "    plt.figure(figsize=(6, 4))\n",
    "    plt.plot(range(0,7960876,1),y)\n",
    "    plt.show()"
   ]
  },
  {
   "cell_type": "code",
   "execution_count": 22,
   "id": "09366935",
   "metadata": {},
   "outputs": [
    {
     "name": "stdout",
     "output_type": "stream",
     "text": [
      "Визуальное сравнение граифика кодированных данных и графика меток аномалий для весов из файла № 1\n"
     ]
    },
    {
     "data": {
      "image/png": "[encoded data removed]",
      "text/plain": [
       "<Figure size 432x288 with 1 Axes>"
      ]
     },
     "metadata": {
      "needs_background": "light"
     },
     "output_type": "display_data"
    },
    {
     "data": {
      "image/png": "[encoded data removed]",
      "text/plain": [
       "<Figure size 432x288 with 1 Axes>"
      ]
     },
     "metadata": {
      "needs_background": "light"
     },
     "output_type": "display_data"
    }
   ],
   "source": [
    "visual_test(1,weights_files)"
   ]
  },
  {
   "cell_type": "code",
   "execution_count": 23,
   "id": "cb0d9406",
   "metadata": {},
   "outputs": [
    {
     "name": "stdout",
     "output_type": "stream",
     "text": [
      "Визуальное сравнение граифика кодированных данных и графика меток аномалий для весов из файла № 2\n"
     ]
    },
    {
     "data": {
      "image/png": "[encoded data removed]",
      "text/plain": [
       "<Figure size 432x288 with 1 Axes>"
      ]
     },
     "metadata": {
      "needs_background": "light"
     },
     "output_type": "display_data"
    },
    {
     "data": {
      "image/png": "[encoded data removed]",
      "text/plain": [
       "<Figure size 432x288 with 1 Axes>"
      ]
     },
     "metadata": {
      "needs_background": "light"
     },
     "output_type": "display_data"
    }
   ],
   "source": [
    "visual_test(2,weights_files)"
   ]
  },
  {
   "cell_type": "markdown",
   "id": "08259882",
   "metadata": {},
   "source": [
    "#### Как видно во много есть некоторые визуальные признаки, что некоторые веса имеют более сильную визуальную сигнатуру, которая больше согласуется с графиками меток. "
   ]
  },
  {
   "cell_type": "markdown",
   "id": "5226987a",
   "metadata": {},
   "source": [
    "## Разработка CPD фильтров для определения участков аномалий. "
   ]
  },
  {
   "cell_type": "code",
   "execution_count": 24,
   "id": "04d6f060",
   "metadata": {},
   "outputs": [
    {
     "name": "stdout",
     "output_type": "stream",
     "text": [
      "18.310190540992018\n"
     ]
    }
   ],
   "source": [
    "import psutil\n",
    "\n",
    "process = psutil.Process()\n",
    "mem_percent = process.memory_percent()\n",
    "print(mem_percent)"
   ]
  },
  {
   "cell_type": "code",
   "execution_count": 25,
   "id": "f6220f5e",
   "metadata": {},
   "outputs": [
    {
     "name": "stdout",
     "output_type": "stream",
     "text": [
      "29\n"
     ]
    }
   ],
   "source": [
    "#Входные данные отчищенные по времени\n",
    "path_cl = [\n",
    "        'C:\\\\Users\\\\markr\\\\AIC_cleaned\\\\well1_cl.csv', #1  -1\n",
    "        #'C:\\\\Users\\\\markr\\\\AIC_cleaned\\\\well2_cl.csv', #2 #удалить нет параметра PVT3\n",
    "        #'C:\\\\Users\\\\markr\\\\AIC_cleaned\\\\well3_cl.csv', #3 #удалить нет параметра PVT3\n",
    "        #'C:\\\\Users\\\\markr\\\\AIC_cleaned\\\\well4_cl.csv', #4 #удалить нет параметра PVT1 и STKC\n",
    "        #'C:\\\\Users\\\\markr\\\\AIC_cleaned\\\\well5_cl.csv', #5 #удалить нет параметра TVA\n",
    "        #'C:\\\\Users\\\\markr\\\\AIC_cleaned\\\\well6_cl.csv', #6 #удалить нет параметра TVA\n",
    "        'C:\\\\Users\\\\markr\\\\AIC_cleaned\\\\well7_cl.csv', #7  -2\n",
    "        'C:\\\\Users\\\\markr\\\\AIC_cleaned\\\\well8_cl.csv', #8  -3\n",
    "        'C:\\\\Users\\\\markr\\\\AIC_cleaned\\\\well9_cl.csv', #9  -4\n",
    "        'C:\\\\Users\\\\markr\\\\AIC_cleaned\\\\well10_cl.csv',#10 -5\n",
    "        'C:\\\\Users\\\\markr\\\\AIC_cleaned\\\\well11_cl.csv',#11 -6\n",
    "        'C:\\\\Users\\\\markr\\\\AIC_cleaned\\\\well12_cl.csv',#12 -7\n",
    "        'C:\\\\Users\\\\markr\\\\AIC_cleaned\\\\well13_cl.csv',#13 -8\n",
    "        'C:\\\\Users\\\\markr\\\\AIC_cleaned\\\\well14_cl.csv',#14 -9\n",
    "        #'C:\\\\Users\\\\markr\\\\AIC_cleaned\\\\well15_cl.csv',#15 Убранно в связи с отсутсвием данных (не критично)\n",
    "        'C:\\\\Users\\\\markr\\\\AIC_cleaned\\\\well16_cl.csv',#16 -10\n",
    "        'C:\\\\Users\\\\markr\\\\AIC_cleaned\\\\well17_cl.csv',#17 -11\n",
    "        'C:\\\\Users\\\\markr\\\\AIC_cleaned\\\\well18_cl.csv',#18 -12\n",
    "        'C:\\\\Users\\\\markr\\\\AIC_cleaned\\\\well19_cl.csv',#19 -13\n",
    "        #'C:\\\\Users\\\\markr\\\\AIC_cleaned\\\\well20_cl.csv',#20 #удалить нет параметра STKC\n",
    "        'C:\\\\Users\\\\markr\\\\AIC_cleaned\\\\well21_cl.csv',#21 -14\n",
    "        'C:\\\\Users\\\\markr\\\\AIC_cleaned\\\\well22_cl.csv',#22 -15\n",
    "        'C:\\\\Users\\\\markr\\\\AIC_cleaned\\\\well23_cl.csv',#23 -16\n",
    "        'C:\\\\Users\\\\markr\\\\AIC_cleaned\\\\well24_cl.csv',#24 -17\n",
    "        'C:\\\\Users\\\\markr\\\\AIC_cleaned\\\\well25_cl.csv',#25 -18\n",
    "        #'C:\\\\Users\\\\markr\\\\AIC_cleaned\\\\well26_cl.csv',#26 #удалить нет параметра TVA\n",
    "        'C:\\\\Users\\\\markr\\\\AIC_cleaned\\\\well27_cl.csv',#27 -19\n",
    "        'C:\\\\Users\\\\markr\\\\AIC_cleaned\\\\well28_cl.csv',#28 -20\n",
    "        'C:\\\\Users\\\\markr\\\\AIC_cleaned\\\\well29_cl.csv',#29 -21\n",
    "        'C:\\\\Users\\\\markr\\\\AIC_cleaned\\\\well30_cl.csv',#30 -22\n",
    "        'C:\\\\Users\\\\markr\\\\AIC_cleaned\\\\well31_cl.csv',#31 -23\n",
    "        'C:\\\\Users\\\\markr\\\\AIC_cleaned\\\\well32_cl.csv',#32 -24\n",
    "        'C:\\\\Users\\\\markr\\\\AIC_cleaned\\\\well33_cl.csv',#33 -25\n",
    "        'C:\\\\Users\\\\markr\\\\AIC_cleaned\\\\well34_cl.csv',#34 -26\n",
    "        'C:\\\\Users\\\\markr\\\\AIC_cleaned\\\\well35_cl.csv',#35 -27\n",
    "        #'C:\\\\Users\\\\markr\\\\AIC_cleaned\\\\well36_cl.csv',#36 #удалить нет параметра PVT1\n",
    "        'C:\\\\Users\\\\markr\\\\AIC_cleaned\\\\well37_cl.csv',#37 -28\n",
    "        'C:\\\\Users\\\\markr\\\\AIC_cleaned\\\\well38_cl.csv' #38 -29\n",
    "]\n",
    "print(len(path_cl))"
   ]
  },
  {
   "cell_type": "markdown",
   "id": "f948d4d7",
   "metadata": {},
   "source": [
    "### Разработка функции фильтрации по CPD для кодированного сигнала с поиском аномальных островов. Функция расчитывает метрики для конкретной скважины."
   ]
  },
  {
   "cell_type": "code",
   "execution_count": 26,
   "id": "0e34c402",
   "metadata": {},
   "outputs": [],
   "source": [
    "from sklearn.metrics import precision_recall_curve, classification_report\n",
    "from sklearn.metrics import accuracy_score\n",
    "from sklearn.metrics import confusion_matrix\n",
    "from sklearn.metrics import classification_report\n",
    "from sklearn.metrics.cluster import adjusted_rand_score"
   ]
  },
  {
   "cell_type": "code",
   "execution_count": 29,
   "id": "5973c3e1",
   "metadata": {},
   "outputs": [],
   "source": [
    "def visual_test_detal(N,path,num,weights_f):\n",
    "    # Создание модели с необходимыми весами\n",
    "    model = Autoencoder()\n",
    "    model.load_state_dict(torch.load(weights_f[num-1]))\n",
    "    \n",
    "    par = [\n",
    "            'BITDEPTH', 'CHKP', 'DEPTH', 'FLWOUT', 'FLWPMPS', 'HKHT', 'HKLI',  #49% max\n",
    "            'PVT1','PVT3', #100% max № 4,36 ; 2,3\n",
    "            'PVT5','ROP','SPM1', 'SPM2', 'SPP',  #49% max\n",
    "            'STKC', #100% max № 4,20\n",
    "            'TTV1', #49% max\n",
    "            'TVA', #100% max № 5,6 26\n",
    "            'WOB'\n",
    "           ]\n",
    "    \n",
    "    data = pd.read_csv(path[N-1],parse_dates = ['RIGTIME'])\n",
    "    y = data['flag'].copy()\n",
    "    X = data[par]\n",
    "       \n",
    "    X_norm = scaler.transform(X)  \n",
    "    dd = torch.from_numpy(X_norm)\n",
    "    encoded_data = model(dd.to(torch.float32))\n",
    "    \n",
    "    # преобразуем тензор в массив numpy\n",
    "    arr = encoded_data.detach().numpy()\n",
    "    # создаем объект Pandas DataFrame из массива numpy\n",
    "    \n",
    "    #print(\"Визуальное сравнение граифика кодированных данных и графика меток аномалий для весов из файла №\",num)\n",
    "    # График кодированных данных\n",
    "    #plt.figure(figsize=(6, 4))\n",
    "    #plt.plot(range(0,len(y),1),pd.DataFrame(arr)[0])\n",
    "    #plt.show()\n",
    "    # График расположения меток\n",
    "    #plt.figure(figsize=(6, 4))\n",
    "    #plt.plot(range(0,len(y),1),y)\n",
    "    #plt.show()\n",
    "    \n",
    "    #y.to_numpy()\n",
    "    y = y.to_numpy()\n",
    "    print(len(y))\n",
    "    bkps = []\n",
    "    # Создание списка changepointов для массива\n",
    "    for i in range(0,len(y)-1,1):\n",
    "        if y[i] == 0 and y[i+1] == 1:\n",
    "            bkps.append(i+1)\n",
    "        if y[i] == 1 and y[i+1] == 0:\n",
    "            bkps.append(i)\n",
    "    \n",
    "    # change point detection\n",
    "    model_CPD = \"l1\"  # \"l2\", \"rbf\"\n",
    "    algo = rpt.Pelt(model=model_CPD,\n",
    "                    min_size=50,   ### минимальное расстояние между сменами (примерно 5 мин)\n",
    "                    jump=250       ### пяттнадцатиминутный перерыв\n",
    "                   ).fit(arr)\n",
    "    \n",
    "    #print(\"Номера оригинальных Change points\")\n",
    "    #print(bkps)\n",
    "    \n",
    "    my_bkps = algo.predict(pen = 3)\n",
    "    \n",
    "    \n",
    "    #print(\"Номера предсказанных Change points\")\n",
    "    #print(my_bkps)\n",
    "    \n",
    "\n",
    "    \n",
    "    y_pred = np.zeros(len(y))\n",
    "    for i in range(0,len(my_bkps)-2,2):\n",
    "        y_pred[my_bkps[i]] = 1\n",
    "        for j in range(my_bkps[i],my_bkps[i+1]):\n",
    "            y_pred[j] = 1\n",
    "        y_pred[my_bkps[i+1]] = 1\n",
    "    \n",
    "            \n",
    "    \n",
    "    print(\"Расчет метрик детекции для скважины №\", N)\n",
    "    print(confusion_matrix(y, y_pred))\n",
    "    target_names = ['normal', 'anomaly']\n",
    "    print(classification_report(y, y_pred, target_names=target_names))\n",
    "    print('ARS',adjusted_rand_score(y, y_pred))\n",
    "    \n",
    "    "
   ]
  },
  {
   "cell_type": "code",
   "execution_count": 30,
   "id": "17570b1b",
   "metadata": {},
   "outputs": [
    {
     "name": "stdout",
     "output_type": "stream",
     "text": [
      "169960\n",
      "Расчет метрик детекции для скважины № 1\n",
      "[[88285 80445]\n",
      " [  749   481]]\n",
      "              precision    recall  f1-score   support\n",
      "\n",
      "      normal       0.99      0.52      0.69    168730\n",
      "     anomaly       0.01      0.39      0.01      1230\n",
      "\n",
      "    accuracy                           0.52    169960\n",
      "   macro avg       0.50      0.46      0.35    169960\n",
      "weighted avg       0.98      0.52      0.68    169960\n",
      "\n",
      "ARS -0.00022621507740969493\n"
     ]
    }
   ],
   "source": [
    "visual_test_detal(1,path_cl,7,weights_files)"
   ]
  },
  {
   "cell_type": "code",
   "execution_count": 31,
   "id": "e9419d8c",
   "metadata": {},
   "outputs": [
    {
     "name": "stdout",
     "output_type": "stream",
     "text": [
      "86602\n",
      "Расчет метрик детекции для скважины № 14\n",
      "[[39845 35705]\n",
      " [ 5147  5905]]\n",
      "              precision    recall  f1-score   support\n",
      "\n",
      "      normal       0.89      0.53      0.66     75550\n",
      "     anomaly       0.14      0.53      0.22     11052\n",
      "\n",
      "    accuracy                           0.53     86602\n",
      "   macro avg       0.51      0.53      0.44     86602\n",
      "weighted avg       0.79      0.53      0.61     86602\n",
      "\n",
      "ARS 0.0023497082170998653\n"
     ]
    }
   ],
   "source": [
    "visual_test_detal(14,path_cl,7,weights_files)"
   ]
  },
  {
   "cell_type": "code",
   "execution_count": null,
   "id": "4133b7bb",
   "metadata": {},
   "outputs": [],
   "source": []
  }
 ],
 "metadata": {
  "kernelspec": {
   "display_name": "Python 3 (ipykernel)",
   "language": "python",
   "name": "python3"
  },
  "language_info": {
   "codemirror_mode": {
    "name": "ipython",
    "version": 3
   },
   "file_extension": ".py",
   "mimetype": "text/x-python",
   "name": "python",
   "nbconvert_exporter": "python",
   "pygments_lexer": "ipython3",
   "version": "3.9.12"
  }
 },
 "nbformat": 4,
 "nbformat_minor": 5
}
